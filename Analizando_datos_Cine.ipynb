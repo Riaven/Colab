{
  "nbformat": 4,
  "nbformat_minor": 0,
  "metadata": {
    "colab": {
      "name": "Analizando datos Cine.ipynb",
      "provenance": [],
      "collapsed_sections": [],
      "toc_visible": true,
      "include_colab_link": true
    },
    "kernelspec": {
      "name": "python3",
      "display_name": "Python 3"
    }
  },
  "cells": [
    {
      "cell_type": "markdown",
      "metadata": {
        "id": "view-in-github",
        "colab_type": "text"
      },
      "source": [
        "<a href=\"https://colab.research.google.com/github/Riaven/Colab/blob/master/Analizando_datos_Cine.ipynb\" target=\"_parent\"><img src=\"https://colab.research.google.com/assets/colab-badge.svg\" alt=\"Open In Colab\"/></a>"
      ]
    },
    {
      "cell_type": "markdown",
      "metadata": {
        "id": "sLBnPk1q59Ci",
        "colab_type": "text"
      },
      "source": [
        "# Notas del profe\n",
        "**Bien, es importante saber a qué tipo de datos me enfrentaré \n",
        "Deje notas, <br> en el código, pero dejare al final la limpieza de datos que puede hacer**<br>\n",
        "\n",
        "#Accediendo a información Cine\n",
        "\n",
        "###Hace años, un cine dejo de funcionar, pero antes de morir en su gloria dejo su archivo de **csv** para poder ser analizado, de este **dataset** se deberá de extraer información relevante como la que se muestra a continuación.\n",
        "\n",
        "Se debe de obtener : \n",
        "\n",
        "- El director con más películas\n",
        "- El director más criticado\n",
        "- Un TOP 10 de las películas más largas\n",
        "- El género con mayor relevancia\n",
        "- Otra información a parecer\n"
      ]
    },
    {
      "cell_type": "markdown",
      "metadata": {
        "id": "Rfmy2VIB66O8",
        "colab_type": "text"
      },
      "source": [
        "Configurando pandas"
      ]
    },
    {
      "cell_type": "code",
      "metadata": {
        "id": "PKzHPsgs60hB",
        "colab_type": "code",
        "outputId": "e810aa73-807b-4e92-a635-12ca13f9f001",
        "colab": {
          "base_uri": "https://localhost:8080/",
          "height": 34
        }
      },
      "source": [
        "%pylab inline \n",
        "#Evita que los gráficos se abran en otras ventanas\n",
        "import pandas as pd\n",
        "import seaborn as sns\n",
        "import numpy as np\n",
        "#Cambiando presición\n",
        "pd.set_option('precision', 5)"
      ],
      "execution_count": 0,
      "outputs": [
        {
          "output_type": "stream",
          "text": [
            "Populating the interactive namespace from numpy and matplotlib\n"
          ],
          "name": "stdout"
        }
      ]
    },
    {
      "cell_type": "markdown",
      "metadata": {
        "id": "5MC1OjHD8zO3",
        "colab_type": "text"
      },
      "source": [
        "Abriendo archivo **csv**"
      ]
    },
    {
      "cell_type": "code",
      "metadata": {
        "id": "HOJVg2mc835O",
        "colab_type": "code",
        "outputId": "01170b39-3060-4592-a5cd-3a16f4651e33",
        "colab": {
          "base_uri": "https://localhost:8080/",
          "height": 578
        }
      },
      "source": [
        "\"\"\" Modifico la ruta, para usar el archivo que cargue yo\"\"\"\n",
        "dt = pd.read_csv('movie_metadata.csv', sep = ',')\n",
        "#for col in dt.columns:\n",
        "  # print(\"- **{}** {}\".format(dt[col].dtype,col)) para saber las el tipo y nombre de cada columna\n",
        "\"\"\" Bien, es importante saber a qué tipo de datos me enfrentaré \"\"\"\n",
        "dt.head(5) #imprime los 5 primeros registros del csv\n",
        "\"\"\" Tambien para sabe a lo que nos enfrentamos, podemos usar info\"\"\"\n",
        "dt.info() # imprimira la columnas, cantidad de registros validos, tipo de dato\n"
      ],
      "execution_count": 0,
      "outputs": [
        {
          "output_type": "stream",
          "text": [
            "<class 'pandas.core.frame.DataFrame'>\n",
            "RangeIndex: 5043 entries, 0 to 5042\n",
            "Data columns (total 28 columns):\n",
            "color                        5024 non-null object\n",
            "director_name                4939 non-null object\n",
            "num_critic_for_reviews       4993 non-null float64\n",
            "duration                     5028 non-null float64\n",
            "director_facebook_likes      4939 non-null float64\n",
            "actor_3_facebook_likes       5020 non-null float64\n",
            "actor_2_name                 5030 non-null object\n",
            "actor_1_facebook_likes       5036 non-null float64\n",
            "gross                        4159 non-null float64\n",
            "genres                       5043 non-null object\n",
            "actor_1_name                 5036 non-null object\n",
            "movie_title                  5043 non-null object\n",
            "num_voted_users              5043 non-null int64\n",
            "cast_total_facebook_likes    5043 non-null int64\n",
            "actor_3_name                 5020 non-null object\n",
            "facenumber_in_poster         5030 non-null float64\n",
            "plot_keywords                4890 non-null object\n",
            "movie_imdb_link              5043 non-null object\n",
            "num_user_for_reviews         5022 non-null float64\n",
            "language                     5031 non-null object\n",
            "country                      5038 non-null object\n",
            "content_rating               4740 non-null object\n",
            "budget                       4551 non-null float64\n",
            "title_year                   4935 non-null float64\n",
            "actor_2_facebook_likes       5030 non-null float64\n",
            "imdb_score                   5043 non-null float64\n",
            "aspect_ratio                 4714 non-null float64\n",
            "movie_facebook_likes         5043 non-null int64\n",
            "dtypes: float64(13), int64(3), object(12)\n",
            "memory usage: 1.1+ MB\n"
          ],
          "name": "stdout"
        }
      ]
    },
    {
      "cell_type": "markdown",
      "metadata": {
        "id": "a7EoAG9y-iK_",
        "colab_type": "text"
      },
      "source": [
        "# Dentro del archivo **CSV** se tienen las columnas:\n",
        "\n",
        "   TIPO / NOMBRE\n",
        "- **object** color\n",
        "- **object** director_name\n",
        "- **float64** num_critic_for_reviews\n",
        "- **float64** duration\n",
        "- **float64** director_facebook_likes\n",
        "- **float64** actor_3_facebook_likes\n",
        "- **object** actor_2_name\n",
        "- **float64** actor_1_facebook_likes\n",
        "- **float64** gross\n",
        "- **object** genres\n",
        "- **object** actor_1_name\n",
        "- **object** movie_title\n",
        "- **int64** num_voted_users\n",
        "- **int64** cast_total_facebook_likes\n",
        "- **object** actor_3_name\n",
        "- **float64** facenumber_in_poster\n",
        "- **object** plot_keywords\n",
        "- **object** movie_imdb_link\n",
        "- **float64** num_user_for_reviews\n",
        "- **object** language\n",
        "- **object** country\n",
        "- **object** content_rating\n",
        "- **float64** budget\n",
        "- **float64** title_year\n",
        "- **float64** actor_2_facebook_likes\n",
        "- **float64** imdb_score\n",
        "- **float64** aspect_ratio\n",
        "- **int64** movie_facebook_likes"
      ]
    },
    {
      "cell_type": "markdown",
      "metadata": {
        "id": "u3Z2g57cBtMW",
        "colab_type": "text"
      },
      "source": [
        "#Agrupando datos \n",
        "\n",
        "##Director con más películas\n",
        "\n",
        "\n",
        "Se toma la columna director_name, al aplicar ```describe()``` se muestran los datos más relevantes, como el top que muestra al director **Steven Spielberg** como el director que más se repite, con una cantidad total de *26 veces*, para corroborar que esto sea real, se procede a encontrar a los primeros 5 directores que más se repitan dentro del registro"
      ]
    },
    {
      "cell_type": "code",
      "metadata": {
        "id": "312kuWCeB0d6",
        "colab_type": "code",
        "outputId": "b43ac1b0-3f9d-4814-ad1c-68660c5a2303",
        "colab": {
          "base_uri": "https://localhost:8080/",
          "height": 374
        }
      },
      "source": [
        "#Viendo los directores\n",
        "dt['director_name'].describe()\n",
        "####Info de directores (.describe())\n",
        "#count                 4939\n",
        "#unique                2398\n",
        "#top       Steven Spielberg #director que más se repite\n",
        "#freq                    26\n",
        "#Name: director_name, dtype: object\n",
        "\n",
        "#Peliculas por director\n",
        "# Se toma la columna director_name, se cuentan los valores que se repiten y muestran los primeros 3\n",
        "# y se crea un gráfico que muestre la diferencia entre los 5 primeros de manera visible\n",
        "dt[\"director_name\"].value_counts().head(5).plot(kind = 'bar')\n",
        "#Steven Spielberg    26\n",
        "#Woody Allen         22\n",
        "#Martin Scorsese     20\n",
        "#Clint Eastwood      20\n",
        "#Ridley Scott        17\n",
        "\n",
        "print('El director con más películas es {}'.format(dt[\"director_name\"].value_counts().head(1)))"
      ],
      "execution_count": 0,
      "outputs": [
        {
          "output_type": "stream",
          "text": [
            "El director con más películas es Steven Spielberg    26\n",
            "Name: director_name, dtype: int64\n"
          ],
          "name": "stdout"
        },
        {
          "output_type": "display_data",
          "data": {
            "image/png": "[encoded data removed]",
            "text/plain": [
              "<Figure size 432x288 with 1 Axes>"
            ]
          },
          "metadata": {
            "tags": []
          }
        }
      ]
    },
    {
      "cell_type": "markdown",
      "metadata": {
        "id": "UtEVF7vAJPlO",
        "colab_type": "text"
      },
      "source": [
        "## Director más criticado\n",
        "\n",
        "Un mismo director puede tener más de una crítica ya que puede poseer más de una película, por lo mismo se agrupa por ```director_name``` y se suman ```num_critic_for_reviews``` por cada director.\n",
        "\n",
        ">Se ordenan los valores con la función ```sort_values``` de manera desendente (se le pasa como parámetro ```ascending=False```, por defecto es ```True```), para que aparesca el director con mayor número de críticas primero.\n",
        "\n",
        "Se muestran los primeros 3 directores que poseen el mayor número de críticas totales.\n",
        "\n",
        "\n",
        "\n",
        "\n"
      ]
    },
    {
      "cell_type": "code",
      "metadata": {
        "id": "HK2G8DWsJUYw",
        "colab_type": "code",
        "outputId": "dcec9d6d-7e76-45fc-f7bc-b5c7ada70af5",
        "colab": {
          "base_uri": "https://localhost:8080/",
          "height": 402
        }
      },
      "source": [
        "# directores con cantidad de críticas\n",
        "# Se agrupa por director y se suma por número de críticas\n",
        "dire_criticas = dt.groupby(['director_name'])['num_critic_for_reviews'].sum()\n",
        "# Se ordenan los valores de acuerdo al número de críticas y se ordenan de mayor a menor \n",
        "# Sólo se muestran los primeros 3 directores con más críticas en total\n",
        "dc = dire_criticas.sort_values(ascending=False).head(3).plot(kind = 'bar', title = \"Críticas por director\")\n",
        "#director_name\n",
        "#Steven Spielberg    6582.0\n",
        "#Ridley Scott        4930.0\n",
        "#Peter Jackson       4542.0\n",
        "dc.set_ylabel(\"Críticas\")\n",
        "dc.set_xlabel(\"Directores\")\n",
        "\n",
        "#El director más criticado es Steven Spielberg con un total de 6582 críticas en total"
      ],
      "execution_count": 0,
      "outputs": [
        {
          "output_type": "execute_result",
          "data": {
            "text/plain": [
              "Text(0.5, 0, 'Directores')"
            ]
          },
          "metadata": {
            "tags": []
          },
          "execution_count": 21
        },
        {
          "output_type": "display_data",
          "data": {
            "image/png": "[encoded data removed]",
            "text/plain": [
              "<Figure size 432x288 with 1 Axes>"
            ]
          },
          "metadata": {
            "tags": []
          }
        }
      ]
    },
    {
      "cell_type": "markdown",
      "metadata": {
        "id": "01hFmr9TZh-e",
        "colab_type": "text"
      },
      "source": [
        "##TOP 10 de películas con mayor duración\n",
        "\n",
        "Usando ```decribe()``` en ```dt['duration'].describe()``` se obtiene que la mayor duración que existe en el registro es de 511, por los mismo se debe de obtener el mismo resultado al ordenar.\n",
        "\n",
        "Se usa ```loc``` que :\n",
        "\n",
        ">El método loc permite seleccionar filas o columnas en base a una etiqueta o seleccionar filas o columnas en base a una condición. ([Fuente](https://www.analyticslane.com/2019/06/21/seleccionar-filas-y-columnas-en-pandas-con-iloc-y-loc/))\n",
        "\n",
        "Se ordenan los valores de las columnas ```movie_title``` y de ```duration``` por la duración, de forma descendente:\n",
        "\n",
        "```python\n",
        "dt.loc[:,['movie_title', 'duration']].sort_values(by='duration', ascending=False)\n",
        "# by = se indica el valor, por el que se quiere ordenar\n",
        "# ascending = Se le indica con un valor boolean si es que se quiere de manera ascendente o no\n",
        "```\n",
        "\n",
        "Por último se muestra los primeros 10 registros de las películas que tienen mayor duración con ```head()```"
      ]
    },
    {
      "cell_type": "code",
      "metadata": {
        "id": "R5bz5eQ2ajtn",
        "colab_type": "code",
        "outputId": "4db76820-5067-4518-feb5-8ad24aaba80b",
        "colab": {
          "base_uri": "https://localhost:8080/",
          "height": 359
        }
      },
      "source": [
        "#mirando los datos de la columna duration\n",
        "#dt['duration'].describe() # max = 511 // dato máximo#\n",
        "\n",
        "#obtener top 10\n",
        "duracion_pelis = dt.loc[:,['movie_title', 'duration']].sort_values(by='duration', ascending=False)\n",
        "duracion_pelis.head(10)\n",
        "\n",
        "#Película con más duración es Trapped, con una duración de 511 minutos\n",
        "#Top 10 de peliculas con más duración"
      ],
      "execution_count": 0,
      "outputs": [
        {
          "output_type": "execute_result",
          "data": {
            "text/html": [
              "<div>\n",
              "<style scoped>\n",
              "    .dataframe tbody tr th:only-of-type {\n",
              "        vertical-align: middle;\n",
              "    }\n",
              "\n",
              "    .dataframe tbody tr th {\n",
              "        vertical-align: top;\n",
              "    }\n",
              "\n",
              "    .dataframe thead th {\n",
              "        text-align: right;\n",
              "    }\n",
              "</style>\n",
              "<table border=\"1\" class=\"dataframe\">\n",
              "  <thead>\n",
              "    <tr style=\"text-align: right;\">\n",
              "      <th></th>\n",
              "      <th>movie_title</th>\n",
              "      <th>duration</th>\n",
              "    </tr>\n",
              "  </thead>\n",
              "  <tbody>\n",
              "    <tr>\n",
              "      <th>1710</th>\n",
              "      <td>Trapped</td>\n",
              "      <td>511.0</td>\n",
              "    </tr>\n",
              "    <tr>\n",
              "      <th>2466</th>\n",
              "      <td>Carlos</td>\n",
              "      <td>334.0</td>\n",
              "    </tr>\n",
              "    <tr>\n",
              "      <th>1501</th>\n",
              "      <td>Blood In, Blood Out</td>\n",
              "      <td>330.0</td>\n",
              "    </tr>\n",
              "    <tr>\n",
              "      <th>1144</th>\n",
              "      <td>Heaven's Gate</td>\n",
              "      <td>325.0</td>\n",
              "    </tr>\n",
              "    <tr>\n",
              "      <th>3311</th>\n",
              "      <td>The Legend of Suriyothai</td>\n",
              "      <td>300.0</td>\n",
              "    </tr>\n",
              "    <tr>\n",
              "      <th>2970</th>\n",
              "      <td>Das Boot</td>\n",
              "      <td>293.0</td>\n",
              "    </tr>\n",
              "    <tr>\n",
              "      <th>1571</th>\n",
              "      <td>Apocalypse Now</td>\n",
              "      <td>289.0</td>\n",
              "    </tr>\n",
              "    <tr>\n",
              "      <th>2727</th>\n",
              "      <td>The Company</td>\n",
              "      <td>286.0</td>\n",
              "    </tr>\n",
              "    <tr>\n",
              "      <th>883</th>\n",
              "      <td>Gods and Generals</td>\n",
              "      <td>280.0</td>\n",
              "    </tr>\n",
              "    <tr>\n",
              "      <th>1980</th>\n",
              "      <td>Gettysburg</td>\n",
              "      <td>271.0</td>\n",
              "    </tr>\n",
              "  </tbody>\n",
              "</table>\n",
              "</div>"
            ],
            "text/plain": [
              "                    movie_title  duration\n",
              "1710       Trapped                  511.0\n",
              "2466        Carlos                  334.0\n",
              "1501       Blood In, Blood Out      330.0\n",
              "1144             Heaven's Gate      325.0\n",
              "3311  The Legend of Suriyothai      300.0\n",
              "2970                  Das Boot      293.0\n",
              "1571            Apocalypse Now      289.0\n",
              "2727   The Company                  286.0\n",
              "883          Gods and Generals      280.0\n",
              "1980                Gettysburg      271.0"
            ]
          },
          "metadata": {
            "tags": []
          },
          "execution_count": 6
        }
      ]
    },
    {
      "cell_type": "markdown",
      "metadata": {
        "id": "yD7UiXSKfHdx",
        "colab_type": "text"
      },
      "source": [
        "##Género con más relevancia\n",
        "\n",
        "Se tomán todos los valores que se encuentran en la columna ```genres```, se cuentan todos lo valores con la función ```value_counts()```\n",
        "\n",
        "Por último se muestran los primeros 5 géneros que más se repiten, quedando como el género más relevante **Drama**\n"
      ]
    },
    {
      "cell_type": "code",
      "metadata": {
        "id": "oqOVguqffNNg",
        "colab_type": "code",
        "outputId": "2323d732-3261-4bb9-e825-ebc874f2fa00",
        "colab": {
          "base_uri": "https://localhost:8080/",
          "height": 119
        }
      },
      "source": [
        "#dt['genres'].describe() # top Drama\n",
        "genero_relevante = dt['genres'].value_counts()\n",
        "genero_relevante.head(5)\n",
        "\n",
        "#Género con mayor relevancia Drama, con un total de 236#"
      ],
      "execution_count": 0,
      "outputs": [
        {
          "output_type": "execute_result",
          "data": {
            "text/plain": [
              "Drama                   236\n",
              "Comedy                  209\n",
              "Comedy|Drama            191\n",
              "Comedy|Drama|Romance    187\n",
              "Comedy|Romance          158\n",
              "Name: genres, dtype: int64"
            ]
          },
          "metadata": {
            "tags": []
          },
          "execution_count": 28
        }
      ]
    },
    {
      "cell_type": "markdown",
      "metadata": {
        "id": "PGBvqecTyEQj",
        "colab_type": "text"
      },
      "source": [
        "#Análisis Libre\n",
        "\n",
        "##Top 10 actores principales que están en más películas\n",
        "\n",
        "Se toman todos los actores que más se repiten, quedando como el actor más relevante (```actor_1_name```) **Robert De Niro**\n"
      ]
    },
    {
      "cell_type": "code",
      "metadata": {
        "id": "2ZtQuNXRyK-u",
        "colab_type": "code",
        "outputId": "bb0c8edb-e2db-4028-ddf5-e06cf59834df",
        "colab": {
          "base_uri": "https://localhost:8080/",
          "height": 204
        }
      },
      "source": [
        "actores_principales = dt['actor_1_name'].value_counts().sort_values(ascending = False)\n",
        "actores_principales.head(10)\n",
        "\n"
      ],
      "execution_count": 0,
      "outputs": [
        {
          "output_type": "execute_result",
          "data": {
            "text/plain": [
              "Robert De Niro       49\n",
              "Johnny Depp          41\n",
              "Nicolas Cage         33\n",
              "J.K. Simmons         31\n",
              "Bruce Willis         30\n",
              "Matt Damon           30\n",
              "Denzel Washington    30\n",
              "Liam Neeson          29\n",
              "Harrison Ford        27\n",
              "Robin Williams       27\n",
              "Name: actor_1_name, dtype: int64"
            ]
          },
          "metadata": {
            "tags": []
          },
          "execution_count": 8
        }
      ]
    },
    {
      "cell_type": "markdown",
      "metadata": {
        "id": "6SrH4Bogg9Je",
        "colab_type": "text"
      },
      "source": [
        "##Porcentaje de los lenguajes originales de las películas\n",
        "\n",
        "Ver el porcentaje que ocupa cada idioma de acuerdo al total de películas"
      ]
    },
    {
      "cell_type": "code",
      "metadata": {
        "id": "Kht4YYKshBZ3",
        "colab_type": "code",
        "outputId": "16aee5f8-7e66-4f35-8af3-5f34e4d88b15",
        "colab": {
          "base_uri": "https://localhost:8080/",
          "height": 34
        }
      },
      "source": [
        "len_ori = dt['language'].value_counts().head(10)\n",
        "#len_ori.describe() Predomina el inglés, y existen 47 lenguajes diferentes en los registros\n",
        "len_ori.index[0] #muestra los idiomas#\n",
        "len_ori[0] #muestra las cantidades#\n",
        "len(len_ori) "
      ],
      "execution_count": 0,
      "outputs": [
        {
          "output_type": "execute_result",
          "data": {
            "text/plain": [
              "10"
            ]
          },
          "metadata": {
            "tags": []
          },
          "execution_count": 6
        }
      ]
    },
    {
      "cell_type": "code",
      "metadata": {
        "id": "3bmlLPyRjkRT",
        "colab_type": "code",
        "outputId": "615c01e3-014b-4fe7-a97b-1ecc09bdbb26",
        "colab": {
          "base_uri": "https://localhost:8080/",
          "height": 187
        }
      },
      "source": [
        "def porcentaje_idioma(cantidad, idioma):\n",
        "    total = dt['movie_title'].count()\n",
        "    porcentaje = (cantidad * 100) / total\n",
        "    return \"Existen un total de {} películas en el idioma {}, que corresponde al {}% de un total de {} películas\".format(cantidad, idioma, str(porcentaje)[0:4], total)\n",
        "    #str(porcentaje)[0:4] Para truncar el porcentaje\n",
        "for i in range(len(len_ori+1)): #Se recorre len_ori#\n",
        "  print(porcentaje_idioma( len_ori[i], len_ori.index[i])) # Se sacan los parámetros y se envían a la función#\n",
        "\n"
      ],
      "execution_count": 0,
      "outputs": [
        {
          "output_type": "stream",
          "text": [
            "Existen un total de 4704 películas en el idioma English, que corresponde al 93.2% de un total de 5043 películas\n",
            "Existen un total de 73 películas en el idioma French, que corresponde al 1.44% de un total de 5043 películas\n",
            "Existen un total de 40 películas en el idioma Spanish, que corresponde al 0.79% de un total de 5043 películas\n",
            "Existen un total de 28 películas en el idioma Hindi, que corresponde al 0.55% de un total de 5043 películas\n",
            "Existen un total de 26 películas en el idioma Mandarin, que corresponde al 0.51% de un total de 5043 películas\n",
            "Existen un total de 19 películas en el idioma German, que corresponde al 0.37% de un total de 5043 películas\n",
            "Existen un total de 18 películas en el idioma Japanese, que corresponde al 0.35% de un total de 5043 películas\n",
            "Existen un total de 11 películas en el idioma Italian, que corresponde al 0.21% de un total de 5043 películas\n",
            "Existen un total de 11 películas en el idioma Cantonese, que corresponde al 0.21% de un total de 5043 películas\n",
            "Existen un total de 11 películas en el idioma Russian, que corresponde al 0.21% de un total de 5043 películas\n"
          ],
          "name": "stdout"
        }
      ]
    },
    {
      "cell_type": "code",
      "metadata": {
        "id": "-sUU5E_SwHh3",
        "colab_type": "code",
        "outputId": "d6e7291d-c308-4791-e6d5-90d59456952d",
        "colab": {
          "base_uri": "https://localhost:8080/",
          "height": 578
        }
      },
      "source": [
        "\"\"\" ¿y si hacemos esto? \"\"\"\n",
        "\"\"\" Como aún no vemos lamba y programación funcional, lo haremos de la siguiente manera \"\"\"\n",
        "\"\"\" Provicionaremos la data de language en una nueva variable\"\"\"\n",
        "new_data = dt['language']\n",
        "\"\"\" Obtenemos la cantidad de elementos que hay en cada uno y lo dividiremos por el largo total de la data\"\"\"\n",
        "count_data = new_data.value_counts()\n",
        "len_data = len(new_data)\n",
        "print((count_data/len_data)[:10]) # imprimimos la info\n",
        "(count_data/len_data)[:10].plot(\n",
        "    kind=\"barh\",\n",
        "    figsize=(6,6)\n",
        ") # hacemos un bonito, aun no vemos mas tipos de graficos, pero existe una libreria llamada matplotlib.pyplot para agregar mas configuraciones :o \n",
        "#top_10_lenguage = dt['language'].value_counts()[:10] # optenemos el top 10, muy bien, trabajamos como vector\n"
      ],
      "execution_count": 0,
      "outputs": [
        {
          "output_type": "stream",
          "text": [
            "English      0.93278\n",
            "French       0.01448\n",
            "Spanish      0.00793\n",
            "Hindi        0.00555\n",
            "Mandarin     0.00516\n",
            "German       0.00377\n",
            "Japanese     0.00357\n",
            "Italian      0.00218\n",
            "Cantonese    0.00218\n",
            "Russian      0.00218\n",
            "Name: language, dtype: float64\n"
          ],
          "name": "stdout"
        },
        {
          "output_type": "execute_result",
          "data": {
            "text/plain": [
              "<matplotlib.axes._subplots.AxesSubplot at 0x7f6c64344ef0>"
            ]
          },
          "metadata": {
            "tags": []
          },
          "execution_count": 47
        },
        {
          "output_type": "display_data",
          "data": {
            "image/png": "[encoded data removed]",
            "text/plain": [
              "<Figure size 432x432 with 1 Axes>"
            ]
          },
          "metadata": {
            "tags": []
          }
        }
      ]
    },
    {
      "cell_type": "code",
      "metadata": {
        "id": "-vAuHQhD14ln",
        "colab_type": "code",
        "outputId": "440651b2-cc88-4f0f-fa72-b911230c59bf",
        "colab": {
          "base_uri": "https://localhost:8080/",
          "height": 1000
        }
      },
      "source": [
        "\"\"\"\" ¿Pero que pasa con la data nula ?\"\"\"\n",
        "\"\"\" En pandas tenemos dos tipos de datos invalidos, NaN o Null, en este caso buscaremos los NaN.\n",
        "En el caso de este CSV se repite mucho lo que es NaN.\n",
        "\"\"\"\n",
        "dt[dt.isna()] # imprimimos los NaN y verlos... son bastantes no?\n",
        "dt.isna().sum() # imprimimos la suma de los valores nana por columnas y ufff\n",
        "total_nan = dt.isna().sum().sum() # sumamos todas las columnas para obtener un solo valor 2698 :o\n",
        "\"\"\" ¿Que pasa con los valores trabajables?\"\"\"\n",
        "dt.count() # el hacer un count, solo contara los valores \"Validos\" para trabajar\n",
        "total_valido = dt.count().sum() # obtenemos la suma de todos los valores trabajables 138506\n",
        "print(\"Hay un total de {} valores nulos y existen un total de {} valores validos de un total de {} datos\".format(total_nan,total_valido,dt.size))\n",
        "\"\"\" Creamos una pequeña Serie para crear un grafico\"\"\"\n",
        "serie_vacios = pd.Series(\n",
        "    name=\"Valores\",\n",
        "    data=[total_nan,total_valido],\n",
        "    index=[\"Valores nan\",\"Valores validos\"])\n",
        "serie_vacios.plot.pie(\n",
        "    figsize=(6,6),\n",
        ")\n",
        "\"\"\" Ahora conociendo está información, como cambiaria todo lo que tiene si remueve o remplaza los valores nan\"\"\"\n",
        "dt.dropna() # borrar datos nan\n",
        "dt.fillna(value=0) # remplazar valores nan\n",
        "\"\"\" aquí queda su criterio :o\"\"\""
      ],
      "execution_count": 0,
      "outputs": [
        {
          "output_type": "stream",
          "text": [
            "Hay un total de 2698 valores nulos y existen un total de 138506 valores validos de un total de 141204 datos\n"
          ],
          "name": "stdout"
        },
        {
          "output_type": "execute_result",
          "data": {
            "text/html": [
              "<div>\n",
              "<style scoped>\n",
              "    .dataframe tbody tr th:only-of-type {\n",
              "        vertical-align: middle;\n",
              "    }\n",
              "\n",
              "    .dataframe tbody tr th {\n",
              "        vertical-align: top;\n",
              "    }\n",
              "\n",
              "    .dataframe thead th {\n",
              "        text-align: right;\n",
              "    }\n",
              "</style>\n",
              "<table border=\"1\" class=\"dataframe\">\n",
              "  <thead>\n",
              "    <tr style=\"text-align: right;\">\n",
              "      <th></th>\n",
              "      <th>color</th>\n",
              "      <th>director_name</th>\n",
              "      <th>num_critic_for_reviews</th>\n",
              "      <th>duration</th>\n",
              "      <th>director_facebook_likes</th>\n",
              "      <th>actor_3_facebook_likes</th>\n",
              "      <th>actor_2_name</th>\n",
              "      <th>actor_1_facebook_likes</th>\n",
              "      <th>gross</th>\n",
              "      <th>genres</th>\n",
              "      <th>actor_1_name</th>\n",
              "      <th>movie_title</th>\n",
              "      <th>num_voted_users</th>\n",
              "      <th>cast_total_facebook_likes</th>\n",
              "      <th>actor_3_name</th>\n",
              "      <th>facenumber_in_poster</th>\n",
              "      <th>plot_keywords</th>\n",
              "      <th>movie_imdb_link</th>\n",
              "      <th>num_user_for_reviews</th>\n",
              "      <th>language</th>\n",
              "      <th>country</th>\n",
              "      <th>content_rating</th>\n",
              "      <th>budget</th>\n",
              "      <th>title_year</th>\n",
              "      <th>actor_2_facebook_likes</th>\n",
              "      <th>imdb_score</th>\n",
              "      <th>aspect_ratio</th>\n",
              "      <th>movie_facebook_likes</th>\n",
              "    </tr>\n",
              "  </thead>\n",
              "  <tbody>\n",
              "    <tr>\n",
              "      <th>0</th>\n",
              "      <td>Color</td>\n",
              "      <td>James Cameron</td>\n",
              "      <td>723.0</td>\n",
              "      <td>178.0</td>\n",
              "      <td>0.0</td>\n",
              "      <td>855.0</td>\n",
              "      <td>Joel David Moore</td>\n",
              "      <td>1000.0</td>\n",
              "      <td>7.60506e+08</td>\n",
              "      <td>Action|Adventure|Fantasy|Sci-Fi</td>\n",
              "      <td>CCH Pounder</td>\n",
              "      <td>Avatar</td>\n",
              "      <td>886204</td>\n",
              "      <td>4834</td>\n",
              "      <td>Wes Studi</td>\n",
              "      <td>0.0</td>\n",
              "      <td>avatar|future|marine|native|paraplegic</td>\n",
              "      <td>http://www.imdb.com/title/tt0499549/?ref_=fn_t...</td>\n",
              "      <td>3054.0</td>\n",
              "      <td>English</td>\n",
              "      <td>USA</td>\n",
              "      <td>PG-13</td>\n",
              "      <td>2.37000e+08</td>\n",
              "      <td>2009.0</td>\n",
              "      <td>936.0</td>\n",
              "      <td>7.9</td>\n",
              "      <td>1.78</td>\n",
              "      <td>33000</td>\n",
              "    </tr>\n",
              "    <tr>\n",
              "      <th>1</th>\n",
              "      <td>Color</td>\n",
              "      <td>Gore Verbinski</td>\n",
              "      <td>302.0</td>\n",
              "      <td>169.0</td>\n",
              "      <td>563.0</td>\n",
              "      <td>1000.0</td>\n",
              "      <td>Orlando Bloom</td>\n",
              "      <td>40000.0</td>\n",
              "      <td>3.09404e+08</td>\n",
              "      <td>Action|Adventure|Fantasy</td>\n",
              "      <td>Johnny Depp</td>\n",
              "      <td>Pirates of the Caribbean: At World's End</td>\n",
              "      <td>471220</td>\n",
              "      <td>48350</td>\n",
              "      <td>Jack Davenport</td>\n",
              "      <td>0.0</td>\n",
              "      <td>goddess|marriage ceremony|marriage proposal|pi...</td>\n",
              "      <td>http://www.imdb.com/title/tt0449088/?ref_=fn_t...</td>\n",
              "      <td>1238.0</td>\n",
              "      <td>English</td>\n",
              "      <td>USA</td>\n",
              "      <td>PG-13</td>\n",
              "      <td>3.00000e+08</td>\n",
              "      <td>2007.0</td>\n",
              "      <td>5000.0</td>\n",
              "      <td>7.1</td>\n",
              "      <td>2.35</td>\n",
              "      <td>0</td>\n",
              "    </tr>\n",
              "    <tr>\n",
              "      <th>2</th>\n",
              "      <td>Color</td>\n",
              "      <td>Sam Mendes</td>\n",
              "      <td>602.0</td>\n",
              "      <td>148.0</td>\n",
              "      <td>0.0</td>\n",
              "      <td>161.0</td>\n",
              "      <td>Rory Kinnear</td>\n",
              "      <td>11000.0</td>\n",
              "      <td>2.00074e+08</td>\n",
              "      <td>Action|Adventure|Thriller</td>\n",
              "      <td>Christoph Waltz</td>\n",
              "      <td>Spectre</td>\n",
              "      <td>275868</td>\n",
              "      <td>11700</td>\n",
              "      <td>Stephanie Sigman</td>\n",
              "      <td>1.0</td>\n",
              "      <td>bomb|espionage|sequel|spy|terrorist</td>\n",
              "      <td>http://www.imdb.com/title/tt2379713/?ref_=fn_t...</td>\n",
              "      <td>994.0</td>\n",
              "      <td>English</td>\n",
              "      <td>UK</td>\n",
              "      <td>PG-13</td>\n",
              "      <td>2.45000e+08</td>\n",
              "      <td>2015.0</td>\n",
              "      <td>393.0</td>\n",
              "      <td>6.8</td>\n",
              "      <td>2.35</td>\n",
              "      <td>85000</td>\n",
              "    </tr>\n",
              "    <tr>\n",
              "      <th>3</th>\n",
              "      <td>Color</td>\n",
              "      <td>Christopher Nolan</td>\n",
              "      <td>813.0</td>\n",
              "      <td>164.0</td>\n",
              "      <td>22000.0</td>\n",
              "      <td>23000.0</td>\n",
              "      <td>Christian Bale</td>\n",
              "      <td>27000.0</td>\n",
              "      <td>4.48131e+08</td>\n",
              "      <td>Action|Thriller</td>\n",
              "      <td>Tom Hardy</td>\n",
              "      <td>The Dark Knight Rises</td>\n",
              "      <td>1144337</td>\n",
              "      <td>106759</td>\n",
              "      <td>Joseph Gordon-Levitt</td>\n",
              "      <td>0.0</td>\n",
              "      <td>deception|imprisonment|lawlessness|police offi...</td>\n",
              "      <td>http://www.imdb.com/title/tt1345836/?ref_=fn_t...</td>\n",
              "      <td>2701.0</td>\n",
              "      <td>English</td>\n",
              "      <td>USA</td>\n",
              "      <td>PG-13</td>\n",
              "      <td>2.50000e+08</td>\n",
              "      <td>2012.0</td>\n",
              "      <td>23000.0</td>\n",
              "      <td>8.5</td>\n",
              "      <td>2.35</td>\n",
              "      <td>164000</td>\n",
              "    </tr>\n",
              "    <tr>\n",
              "      <th>4</th>\n",
              "      <td>0</td>\n",
              "      <td>Doug Walker</td>\n",
              "      <td>0.0</td>\n",
              "      <td>0.0</td>\n",
              "      <td>131.0</td>\n",
              "      <td>0.0</td>\n",
              "      <td>Rob Walker</td>\n",
              "      <td>131.0</td>\n",
              "      <td>0.00000e+00</td>\n",
              "      <td>Documentary</td>\n",
              "      <td>Doug Walker</td>\n",
              "      <td>Star Wars: Episode VII - The Force Awakens    ...</td>\n",
              "      <td>8</td>\n",
              "      <td>143</td>\n",
              "      <td>0</td>\n",
              "      <td>0.0</td>\n",
              "      <td>0</td>\n",
              "      <td>http://www.imdb.com/title/tt5289954/?ref_=fn_t...</td>\n",
              "      <td>0.0</td>\n",
              "      <td>0</td>\n",
              "      <td>0</td>\n",
              "      <td>0</td>\n",
              "      <td>0.00000e+00</td>\n",
              "      <td>0.0</td>\n",
              "      <td>12.0</td>\n",
              "      <td>7.1</td>\n",
              "      <td>0.00</td>\n",
              "      <td>0</td>\n",
              "    </tr>\n",
              "    <tr>\n",
              "      <th>...</th>\n",
              "      <td>...</td>\n",
              "      <td>...</td>\n",
              "      <td>...</td>\n",
              "      <td>...</td>\n",
              "      <td>...</td>\n",
              "      <td>...</td>\n",
              "      <td>...</td>\n",
              "      <td>...</td>\n",
              "      <td>...</td>\n",
              "      <td>...</td>\n",
              "      <td>...</td>\n",
              "      <td>...</td>\n",
              "      <td>...</td>\n",
              "      <td>...</td>\n",
              "      <td>...</td>\n",
              "      <td>...</td>\n",
              "      <td>...</td>\n",
              "      <td>...</td>\n",
              "      <td>...</td>\n",
              "      <td>...</td>\n",
              "      <td>...</td>\n",
              "      <td>...</td>\n",
              "      <td>...</td>\n",
              "      <td>...</td>\n",
              "      <td>...</td>\n",
              "      <td>...</td>\n",
              "      <td>...</td>\n",
              "      <td>...</td>\n",
              "    </tr>\n",
              "    <tr>\n",
              "      <th>5038</th>\n",
              "      <td>Color</td>\n",
              "      <td>Scott Smith</td>\n",
              "      <td>1.0</td>\n",
              "      <td>87.0</td>\n",
              "      <td>2.0</td>\n",
              "      <td>318.0</td>\n",
              "      <td>Daphne Zuniga</td>\n",
              "      <td>637.0</td>\n",
              "      <td>0.00000e+00</td>\n",
              "      <td>Comedy|Drama</td>\n",
              "      <td>Eric Mabius</td>\n",
              "      <td>Signed Sealed Delivered</td>\n",
              "      <td>629</td>\n",
              "      <td>2283</td>\n",
              "      <td>Crystal Lowe</td>\n",
              "      <td>2.0</td>\n",
              "      <td>fraud|postal worker|prison|theft|trial</td>\n",
              "      <td>http://www.imdb.com/title/tt3000844/?ref_=fn_t...</td>\n",
              "      <td>6.0</td>\n",
              "      <td>English</td>\n",
              "      <td>Canada</td>\n",
              "      <td>0</td>\n",
              "      <td>0.00000e+00</td>\n",
              "      <td>2013.0</td>\n",
              "      <td>470.0</td>\n",
              "      <td>7.7</td>\n",
              "      <td>0.00</td>\n",
              "      <td>84</td>\n",
              "    </tr>\n",
              "    <tr>\n",
              "      <th>5039</th>\n",
              "      <td>Color</td>\n",
              "      <td>0</td>\n",
              "      <td>43.0</td>\n",
              "      <td>43.0</td>\n",
              "      <td>0.0</td>\n",
              "      <td>319.0</td>\n",
              "      <td>Valorie Curry</td>\n",
              "      <td>841.0</td>\n",
              "      <td>0.00000e+00</td>\n",
              "      <td>Crime|Drama|Mystery|Thriller</td>\n",
              "      <td>Natalie Zea</td>\n",
              "      <td>The Following</td>\n",
              "      <td>73839</td>\n",
              "      <td>1753</td>\n",
              "      <td>Sam Underwood</td>\n",
              "      <td>1.0</td>\n",
              "      <td>cult|fbi|hideout|prison escape|serial killer</td>\n",
              "      <td>http://www.imdb.com/title/tt2071645/?ref_=fn_t...</td>\n",
              "      <td>359.0</td>\n",
              "      <td>English</td>\n",
              "      <td>USA</td>\n",
              "      <td>TV-14</td>\n",
              "      <td>0.00000e+00</td>\n",
              "      <td>0.0</td>\n",
              "      <td>593.0</td>\n",
              "      <td>7.5</td>\n",
              "      <td>16.00</td>\n",
              "      <td>32000</td>\n",
              "    </tr>\n",
              "    <tr>\n",
              "      <th>5040</th>\n",
              "      <td>Color</td>\n",
              "      <td>Benjamin Roberds</td>\n",
              "      <td>13.0</td>\n",
              "      <td>76.0</td>\n",
              "      <td>0.0</td>\n",
              "      <td>0.0</td>\n",
              "      <td>Maxwell Moody</td>\n",
              "      <td>0.0</td>\n",
              "      <td>0.00000e+00</td>\n",
              "      <td>Drama|Horror|Thriller</td>\n",
              "      <td>Eva Boehnke</td>\n",
              "      <td>A Plague So Pleasant</td>\n",
              "      <td>38</td>\n",
              "      <td>0</td>\n",
              "      <td>David Chandler</td>\n",
              "      <td>0.0</td>\n",
              "      <td>0</td>\n",
              "      <td>http://www.imdb.com/title/tt2107644/?ref_=fn_t...</td>\n",
              "      <td>3.0</td>\n",
              "      <td>English</td>\n",
              "      <td>USA</td>\n",
              "      <td>0</td>\n",
              "      <td>1.40000e+03</td>\n",
              "      <td>2013.0</td>\n",
              "      <td>0.0</td>\n",
              "      <td>6.3</td>\n",
              "      <td>0.00</td>\n",
              "      <td>16</td>\n",
              "    </tr>\n",
              "    <tr>\n",
              "      <th>5041</th>\n",
              "      <td>Color</td>\n",
              "      <td>Daniel Hsia</td>\n",
              "      <td>14.0</td>\n",
              "      <td>100.0</td>\n",
              "      <td>0.0</td>\n",
              "      <td>489.0</td>\n",
              "      <td>Daniel Henney</td>\n",
              "      <td>946.0</td>\n",
              "      <td>1.04430e+04</td>\n",
              "      <td>Comedy|Drama|Romance</td>\n",
              "      <td>Alan Ruck</td>\n",
              "      <td>Shanghai Calling</td>\n",
              "      <td>1255</td>\n",
              "      <td>2386</td>\n",
              "      <td>Eliza Coupe</td>\n",
              "      <td>5.0</td>\n",
              "      <td>0</td>\n",
              "      <td>http://www.imdb.com/title/tt2070597/?ref_=fn_t...</td>\n",
              "      <td>9.0</td>\n",
              "      <td>English</td>\n",
              "      <td>USA</td>\n",
              "      <td>PG-13</td>\n",
              "      <td>0.00000e+00</td>\n",
              "      <td>2012.0</td>\n",
              "      <td>719.0</td>\n",
              "      <td>6.3</td>\n",
              "      <td>2.35</td>\n",
              "      <td>660</td>\n",
              "    </tr>\n",
              "    <tr>\n",
              "      <th>5042</th>\n",
              "      <td>Color</td>\n",
              "      <td>Jon Gunn</td>\n",
              "      <td>43.0</td>\n",
              "      <td>90.0</td>\n",
              "      <td>16.0</td>\n",
              "      <td>16.0</td>\n",
              "      <td>Brian Herzlinger</td>\n",
              "      <td>86.0</td>\n",
              "      <td>8.52220e+04</td>\n",
              "      <td>Documentary</td>\n",
              "      <td>John August</td>\n",
              "      <td>My Date with Drew</td>\n",
              "      <td>4285</td>\n",
              "      <td>163</td>\n",
              "      <td>Jon Gunn</td>\n",
              "      <td>0.0</td>\n",
              "      <td>actress name in title|crush|date|four word tit...</td>\n",
              "      <td>http://www.imdb.com/title/tt0378407/?ref_=fn_t...</td>\n",
              "      <td>84.0</td>\n",
              "      <td>English</td>\n",
              "      <td>USA</td>\n",
              "      <td>PG</td>\n",
              "      <td>1.10000e+03</td>\n",
              "      <td>2004.0</td>\n",
              "      <td>23.0</td>\n",
              "      <td>6.6</td>\n",
              "      <td>1.85</td>\n",
              "      <td>456</td>\n",
              "    </tr>\n",
              "  </tbody>\n",
              "</table>\n",
              "<p>5043 rows × 28 columns</p>\n",
              "</div>"
            ],
            "text/plain": [
              "      color      director_name  ...  aspect_ratio  movie_facebook_likes\n",
              "0     Color      James Cameron  ...          1.78                 33000\n",
              "1     Color     Gore Verbinski  ...          2.35                     0\n",
              "2     Color         Sam Mendes  ...          2.35                 85000\n",
              "3     Color  Christopher Nolan  ...          2.35                164000\n",
              "4         0        Doug Walker  ...          0.00                     0\n",
              "...     ...                ...  ...           ...                   ...\n",
              "5038  Color        Scott Smith  ...          0.00                    84\n",
              "5039  Color                  0  ...         16.00                 32000\n",
              "5040  Color   Benjamin Roberds  ...          0.00                    16\n",
              "5041  Color        Daniel Hsia  ...          2.35                   660\n",
              "5042  Color           Jon Gunn  ...          1.85                   456\n",
              "\n",
              "[5043 rows x 28 columns]"
            ]
          },
          "metadata": {
            "tags": []
          },
          "execution_count": 70
        },
        {
          "output_type": "display_data",
          "data": {
            "image/png": "[encoded data removed]",
            "text/plain": [
              "<Figure size 432x432 with 1 Axes>"
            ]
          },
          "metadata": {
            "tags": []
          }
        }
      ]
    }
  ]
}