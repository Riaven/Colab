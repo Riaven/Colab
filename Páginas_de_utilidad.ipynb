{
  "nbformat": 4,
  "nbformat_minor": 0,
  "metadata": {
    "colab": {
      "name": "Páginas de utilidad.ipynb",
      "provenance": [],
      "authorship_tag": "ABX9TyPs8sCtoi/qEgVFPa6IfgqH",
      "include_colab_link": true
    },
    "kernelspec": {
      "name": "python3",
      "display_name": "Python 3"
    }
  },
  "cells": [
    {
      "cell_type": "markdown",
      "metadata": {
        "id": "view-in-github",
        "colab_type": "text"
      },
      "source": [
        "<a href=\"https://colab.research.google.com/github/Riaven/Colab/blob/master/P%C3%A1ginas_de_utilidad.ipynb\" target=\"_parent\"><img src=\"https://colab.research.google.com/assets/colab-badge.svg\" alt=\"Open In Colab\"/></a>"
      ]
    },
    {
      "cell_type": "markdown",
      "metadata": {
        "id": "XWhvzxhdXIIr",
        "colab_type": "text"
      },
      "source": [
        "# Páginas de utilidad para usar ya sea por información y/o un servicio.\n",
        "\n",
        "<hr>\n",
        "\n",
        "# - [REMOVE.BG](https://www.remove.bg/upload)\n",
        "###Permite remover el fondo de cualquier imagen\n",
        "\n",
        "\n"
      ]
    },
    {
      "cell_type": "markdown",
      "metadata": {
        "id": "zmu_Pjb65tT7",
        "colab_type": "text"
      },
      "source": [
        "#[UNSPLASH.COM](unsplash.com)\n",
        "\n",
        "##Permite obtener imágenes gratuitas en alta calidad :)"
      ]
    },
    {
      "cell_type": "markdown",
      "metadata": {
        "id": "OcLhSQml1YmA",
        "colab_type": "text"
      },
      "source": [
        "#[ILOVEPDF](https://www.ilovepdf.com/es/pdf_a_word)\n",
        "\n",
        "##Permite transformar un pdf a un word editable :)"
      ]
    },
    {
      "cell_type": "markdown",
      "metadata": {
        "id": "GGMASYPPnfCg",
        "colab_type": "text"
      },
      "source": [
        "#[VENNGAGE](https://es.venngage.com/)\n",
        "\n",
        "##Permite crear infografías con variados temas de forma gratuita _)"
      ]
    }
  ]
}